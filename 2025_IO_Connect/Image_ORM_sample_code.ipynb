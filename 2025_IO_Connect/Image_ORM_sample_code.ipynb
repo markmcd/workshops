{
  "cells": [
    {
      "cell_type": "markdown",
      "metadata": {
        "id": "bhzdyhoKnS0Z"
      },
      "source": [
        "## Add dependencies"
      ]
    },
    {
      "cell_type": "code",
      "execution_count": 1,
      "metadata": {
        "id": "Nh_M3cD7Qy9F"
      },
      "outputs": [
        {
          "name": "stdout",
          "output_type": "stream",
          "text": [
            "\u001b[?25l   \u001b[90m━━━━━━━━━━━━━━━━━━━━━━━━━━━━━━━━━━━━━━━━\u001b[0m \u001b[32m0.0/206.4 kB\u001b[0m \u001b[31m?\u001b[0m eta \u001b[36m-:--:--\u001b[0m\r\u001b[2K   \u001b[90m━━━━━━━━━━━━━━━━━━━━━━━━━━━━━━━━━━━━━━━━\u001b[0m \u001b[32m206.4/206.4 kB\u001b[0m \u001b[31m10.7 MB/s\u001b[0m eta \u001b[36m0:00:00\u001b[0m\n",
            "\u001b[?25h"
          ]
        }
      ],
      "source": [
        "%pip install -qU sqlalchemy pydantic google-genai"
      ]
    },
    {
      "cell_type": "code",
      "execution_count": 2,
      "metadata": {
        "id": "SgB1X9cYSiHA"
      },
      "outputs": [],
      "source": [
        "%load_ext sql\n",
        "%config SqlMagic.style = '_DEPRECATED_DEFAULT'"
      ]
    },
    {
      "cell_type": "markdown",
      "metadata": {
        "id": "Xq2W0vWBRnnV"
      },
      "source": [
        "## Set up database"
      ]
    },
    {
      "cell_type": "code",
      "execution_count": 3,
      "metadata": {
        "id": "QUpZZNtUTzst"
      },
      "outputs": [],
      "source": [
        "from sqlalchemy import Column, Integer, String, ForeignKey\n",
        "from sqlalchemy.orm import declarative_base, relationship\n",
        "\n",
        "Base = declarative_base()\n",
        "\n",
        "\n",
        "class MemberDB(Base):\n",
        "    __tablename__ = \"members\"\n",
        "\n",
        "    id = Column(Integer, primary_key=True, index=True)\n",
        "    name = Column(String, index=True)\n",
        "    email = Column(String)\n",
        "    age = Column(Integer)\n",
        "    phone = Column(String)\n",
        "    full_address = Column(String)\n",
        "\n",
        "    interests = relationship(\"MemberInterestDB\", back_populates=\"member\")\n",
        "\n",
        "\n",
        "class MemberInterestDB(Base):\n",
        "  __tablename__ = \"member_interests\"\n",
        "\n",
        "  id = Column(Integer, primary_key=True, index=True)\n",
        "  member_id = Column(Integer, ForeignKey(\"members.id\"), index=True)\n",
        "  interest = Column(String)\n",
        "\n",
        "  member = relationship(\"MemberDB\", back_populates=\"interests\")\n"
      ]
    },
    {
      "cell_type": "code",
      "execution_count": 4,
      "metadata": {
        "id": "QUlGKqToRZjv"
      },
      "outputs": [],
      "source": [
        "from sqlalchemy import create_engine\n",
        "from sqlalchemy.orm import sessionmaker\n",
        "\n",
        "# Local sqlite database for demo purposes.\n",
        "DATABASE_URL = \"sqlite:///./test.db\"\n",
        "\n",
        "engine = create_engine(DATABASE_URL)\n",
        "\n",
        "# Create all tables\n",
        "Base.metadata.create_all(bind=engine)\n",
        "\n",
        "SessionLocal = sessionmaker(autocommit=False, autoflush=False, bind=engine)"
      ]
    },
    {
      "cell_type": "markdown",
      "metadata": {
        "id": "NExCuX7QnnKj"
      },
      "source": [
        "Load the IPython sqlite tool and peek into the DB."
      ]
    },
    {
      "cell_type": "code",
      "execution_count": 5,
      "metadata": {
        "id": "bUuNJ3P3tBko"
      },
      "outputs": [],
      "source": [
        "%sql sqlite:///./test.db"
      ]
    },
    {
      "cell_type": "code",
      "execution_count": 6,
      "metadata": {
        "id": "tePEPlNDwtTv"
      },
      "outputs": [
        {
          "name": "stdout",
          "output_type": "stream",
          "text": [
            " * sqlite:///./test.db\n",
            "Done.\n"
          ]
        },
        {
          "data": {
            "text/html": [
              "<table>\n",
              "    <thead>\n",
              "        <tr>\n",
              "            <th>name</th>\n",
              "        </tr>\n",
              "    </thead>\n",
              "    <tbody>\n",
              "        <tr>\n",
              "            <td>members</td>\n",
              "        </tr>\n",
              "        <tr>\n",
              "            <td>member_interests</td>\n",
              "        </tr>\n",
              "    </tbody>\n",
              "</table>"
            ],
            "text/plain": [
              "[('members',), ('member_interests',)]"
            ]
          },
          "execution_count": 6,
          "metadata": {},
          "output_type": "execute_result"
        }
      ],
      "source": [
        "%%sql\n",
        "SELECT name FROM sqlite_master WHERE type='table';"
      ]
    },
    {
      "cell_type": "code",
      "execution_count": 7,
      "metadata": {
        "id": "iw0tlYK3yZYl"
      },
      "outputs": [
        {
          "name": "stdout",
          "output_type": "stream",
          "text": [
            " * sqlite:///./test.db\n",
            "Done.\n"
          ]
        },
        {
          "data": {
            "text/html": [
              "<table>\n",
              "    <thead>\n",
              "        <tr>\n",
              "            <th>id</th>\n",
              "            <th>name</th>\n",
              "            <th>email</th>\n",
              "            <th>age</th>\n",
              "            <th>phone</th>\n",
              "            <th>full_address</th>\n",
              "        </tr>\n",
              "    </thead>\n",
              "    <tbody>\n",
              "    </tbody>\n",
              "</table>"
            ],
            "text/plain": [
              "[]"
            ]
          },
          "execution_count": 7,
          "metadata": {},
          "output_type": "execute_result"
        }
      ],
      "source": [
        "%%sql\n",
        "SELECT * FROM members;"
      ]
    },
    {
      "cell_type": "markdown",
      "metadata": {
        "id": "BrrsE4vFntLd"
      },
      "source": [
        "You should see no rows, but the query should execute and display the table columns."
      ]
    },
    {
      "cell_type": "markdown",
      "metadata": {
        "id": "xcg4vt5CreFe"
      },
      "source": [
        "## Set up logical model\n",
        "\n",
        "The logical model represents the application's data structure, optimized for its workflows. This often differs from the physical database schema, as applications rarely need all database fields for every task. For instance, a `password` column, while essential in the database, wouldn't be included when displaying a user record in a UI."
      ]
    },
    {
      "cell_type": "code",
      "execution_count": 8,
      "metadata": {
        "id": "tnEMPX_dSuSz"
      },
      "outputs": [],
      "source": [
        "import enum\n",
        "\n",
        "from pydantic import BaseModel, ConfigDict\n",
        "\n",
        "class InterestChoice(enum.Enum):\n",
        "  ARTS = \"arts_and_crafts\"\n",
        "  BUSHCRAFT = \"bushcraft\"\n",
        "  COOKING = \"cooking\"\n",
        "  KNOTS = \"knot_tying\"\n",
        "  MUSIC = \"music\"\n",
        "  NATURE = \"nature_and_plants\"\n",
        "  PHOTOGRAPHY = \"photograph\"\n",
        "  SPORTS = \"sports\"\n",
        "  TECHNOLOGY = \"tech\"\n",
        "\n",
        "\n",
        "class Interest(BaseModel):\n",
        "    model_config = ConfigDict(from_attributes=True)\n",
        "\n",
        "    interest: InterestChoice\n",
        "\n",
        "\n",
        "class Member(BaseModel):\n",
        "    model_config = ConfigDict(from_attributes=True)\n",
        "\n",
        "    id: int | None = None\n",
        "    name: str\n",
        "    email: str\n",
        "    age: int\n",
        "    phone: str\n",
        "    full_address: str\n",
        "    interests: list[Interest]\n"
      ]
    },
    {
      "cell_type": "markdown",
      "metadata": {
        "id": "tQ6COmOop0FH"
      },
      "source": [
        "Define a helper to insert a logical instance into the database."
      ]
    },
    {
      "cell_type": "code",
      "execution_count": 10,
      "metadata": {
        "id": "aB88F0D44n0G"
      },
      "outputs": [],
      "source": [
        "def create_member_with_interests(db: SessionLocal, member_data: Member):\n",
        "    \"\"\"Insert the provided member, including any associated interests in a DB transaction.\"\"\"\n",
        "    db_member = MemberDB(\n",
        "        name=member_data.name,\n",
        "        email=member_data.email,\n",
        "        age=member_data.age,\n",
        "        phone=member_data.phone,\n",
        "        full_address=member_data.full_address\n",
        "    )\n",
        "\n",
        "    for interest in member_data.interests:\n",
        "        db_interest = MemberInterestDB(interest=interest.interest.value, member=db_member)\n",
        "        db.add(db_interest)\n",
        "\n",
        "    db.add(db_member)\n",
        "    db.commit()\n",
        "    db.refresh(db_member)\n",
        "    return db_member"
      ]
    },
    {
      "cell_type": "markdown",
      "metadata": {
        "id": "qIPynbsVp7q0"
      },
      "source": [
        "Test that the insert helper works."
      ]
    },
    {
      "cell_type": "code",
      "execution_count": 11,
      "metadata": {
        "id": "_7vfE7f7yxs8"
      },
      "outputs": [],
      "source": [
        "db = SessionLocal()\n",
        "\n",
        "new_member = Member(\n",
        "    name=\"John Doe\",\n",
        "    email=\"john.doe@example.com\",\n",
        "    age=29,\n",
        "    phone=\"123-456-7890\",\n",
        "    full_address=\"123 Main St\",\n",
        "    interests=[Interest(interest=InterestChoice.COOKING), Interest(interest=InterestChoice.BUSHCRAFT)]\n",
        ")\n",
        "\n",
        "db_row = create_member_with_interests(db, new_member)"
      ]
    },
    {
      "cell_type": "code",
      "execution_count": 12,
      "metadata": {
        "id": "1HD3qFXoRcem"
      },
      "outputs": [
        {
          "name": "stdout",
          "output_type": "stream",
          "text": [
            " * sqlite:///./test.db\n",
            "Done.\n"
          ]
        },
        {
          "data": {
            "text/html": [
              "<table>\n",
              "    <thead>\n",
              "        <tr>\n",
              "            <th>id</th>\n",
              "            <th>name</th>\n",
              "            <th>email</th>\n",
              "            <th>age</th>\n",
              "            <th>phone</th>\n",
              "            <th>full_address</th>\n",
              "        </tr>\n",
              "    </thead>\n",
              "    <tbody>\n",
              "        <tr>\n",
              "            <td>1</td>\n",
              "            <td>John Doe</td>\n",
              "            <td>john.doe@example.com</td>\n",
              "            <td>29</td>\n",
              "            <td>123-456-7890</td>\n",
              "            <td>123 Main St</td>\n",
              "        </tr>\n",
              "    </tbody>\n",
              "</table>"
            ],
            "text/plain": [
              "[(1, 'John Doe', 'john.doe@example.com', 29, '123-456-7890', '123 Main St')]"
            ]
          },
          "execution_count": 12,
          "metadata": {},
          "output_type": "execute_result"
        }
      ],
      "source": [
        "%%sql\n",
        "select * from members where email = 'john.doe@example.com';"
      ]
    },
    {
      "cell_type": "code",
      "execution_count": 13,
      "metadata": {
        "id": "yMjbPacdRlgt"
      },
      "outputs": [
        {
          "name": "stdout",
          "output_type": "stream",
          "text": [
            " * sqlite:///./test.db\n",
            "Done.\n"
          ]
        },
        {
          "data": {
            "text/html": [
              "<table>\n",
              "    <thead>\n",
              "        <tr>\n",
              "            <th>id</th>\n",
              "            <th>member_id</th>\n",
              "            <th>interest</th>\n",
              "        </tr>\n",
              "    </thead>\n",
              "    <tbody>\n",
              "        <tr>\n",
              "            <td>1</td>\n",
              "            <td>1</td>\n",
              "            <td>cooking</td>\n",
              "        </tr>\n",
              "        <tr>\n",
              "            <td>2</td>\n",
              "            <td>1</td>\n",
              "            <td>bushcraft</td>\n",
              "        </tr>\n",
              "    </tbody>\n",
              "</table>"
            ],
            "text/plain": [
              "[(1, 1, 'cooking'), (2, 1, 'bushcraft')]"
            ]
          },
          "execution_count": 13,
          "metadata": {},
          "output_type": "execute_result"
        }
      ],
      "source": [
        "%%sql\n",
        "select * from member_interests where member_id = 1;"
      ]
    },
    {
      "cell_type": "markdown",
      "metadata": {
        "id": "mJSM3vh4SGsC"
      },
      "source": [
        "## Set up the Gemini API\n",
        "\n",
        "Load and configure the Gemini SDK client."
      ]
    },
    {
      "cell_type": "code",
      "execution_count": 17,
      "metadata": {
        "id": "9ibFNdQzSPLI"
      },
      "outputs": [],
      "source": [
        "import os\n",
        "from google.colab import userdata\n",
        "\n",
        "os.environ['GOOGLE_API_KEY'] = userdata.get('GOOGLE_API_KEY')"
      ]
    },
    {
      "cell_type": "code",
      "execution_count": 18,
      "metadata": {
        "id": "fuI3hYh4SJGI"
      },
      "outputs": [],
      "source": [
        "from google import genai\n",
        "from google.genai import types\n",
        "\n",
        "client = genai.Client()"
      ]
    },
    {
      "cell_type": "markdown",
      "metadata": {
        "id": "3QXzN5VWqLod"
      },
      "source": [
        "Download a sample image of a completed form. You can find the original form [here](https://docs.google.com/document/d/1u7VbeT9YTiqLsu952GFRz5ORn6HqQ4J1tNbA5PESpKg/edit?tab=t.0) if you want to try your own out."
      ]
    },
    {
      "cell_type": "code",
      "execution_count": 14,
      "metadata": {
        "id": "KzxKLh_9q2Z2"
      },
      "outputs": [
        {
          "name": "stdout",
          "output_type": "stream",
          "text": [
            "--2025-06-24 06:42:08--  https://storage.googleapis.com/generativeai-downloads/images/new_member.jpg\n",
            "Resolving storage.googleapis.com (storage.googleapis.com)... 192.178.163.207, 74.125.20.207, 108.177.98.207, ...\n",
            "Connecting to storage.googleapis.com (storage.googleapis.com)|192.178.163.207|:443... connected.\n",
            "HTTP request sent, awaiting response... 200 OK\n",
            "Length: 1429960 (1.4M) [image/jpeg]\n",
            "Saving to: ‘new_member.jpg’\n",
            "\n",
            "\rnew_member.jpg        0%[                    ]       0  --.-KB/s               \rnew_member.jpg      100%[===================>]   1.36M  --.-KB/s    in 0.008s  \n",
            "\n",
            "2025-06-24 06:42:08 (172 MB/s) - ‘new_member.jpg’ saved [1429960/1429960]\n",
            "\n"
          ]
        }
      ],
      "source": [
        "!wget https://storage.googleapis.com/generativeai-downloads/images/new_member.jpg"
      ]
    },
    {
      "cell_type": "code",
      "execution_count": 15,
      "metadata": {
        "id": "C8ISbLt-cMVT"
      },
      "outputs": [],
      "source": [
        "import PIL.Image\n",
        "\n",
        "form_photo = PIL.Image.open('new_member.jpg')\n",
        "\n",
        "form_photo"
      ]
    },
    {
      "cell_type": "markdown",
      "metadata": {
        "id": "V2KiQ8dZ4aJV"
      },
      "source": [
        "Make the Gemini API call to process the image."
      ]
    },
    {
      "cell_type": "code",
      "execution_count": null,
      "metadata": {
        "id": "RX1azMYqLVB_"
      },
      "outputs": [],
      "source": [
        "response = client.models.generate_content(\n",
        "    model='gemini-2.5-flash',\n",
        "    config=types.GenerateContentConfig(\n",
        "        response_mime_type='application/json',\n",
        "        response_schema=Member,\n",
        "        system_instruction=\"The current date is May 11, 2025\"\n",
        "    ),\n",
        "    contents=form_photo,\n",
        ")\n",
        "\n",
        "new_member = response.parsed\n",
        "new_member"
      ]
    },
    {
      "cell_type": "code",
      "execution_count": 23,
      "metadata": {
        "id": "sBVDXStDQqH7"
      },
      "outputs": [
        {
          "name": "stdout",
          "output_type": "stream",
          "text": [
            "{\"id\":null,\"name\":\"Wilson Spalding\",\"email\":\"will@example.com\",\"age\":55,\"phone\":\"0491570156\",\"full_address\":\"1 Basketball Ct. Sportsville\",\"interests\":[{\"interest\":\"music\"},{\"interest\":\"nature_and_plants\"},{\"interest\":\"sports\"}]}\n"
          ]
        }
      ],
      "source": [
        "print(response.text)"
      ]
    },
    {
      "cell_type": "markdown",
      "metadata": {
        "id": "OQm63GUs4dL0"
      },
      "source": [
        "Now insert the returned object directly into the database."
      ]
    },
    {
      "cell_type": "code",
      "execution_count": 24,
      "metadata": {
        "id": "ku0oI68lYIEX"
      },
      "outputs": [],
      "source": [
        "create_member_with_interests(db, new_member);"
      ]
    },
    {
      "cell_type": "markdown",
      "metadata": {
        "id": "eD1csjCi4ity"
      },
      "source": [
        "Finally, test that it landed."
      ]
    },
    {
      "cell_type": "code",
      "execution_count": 25,
      "metadata": {
        "id": "yJyPgEn-csSb"
      },
      "outputs": [
        {
          "name": "stdout",
          "output_type": "stream",
          "text": [
            " * sqlite:///./test.db\n",
            "Done.\n"
          ]
        },
        {
          "data": {
            "text/html": [
              "<table>\n",
              "    <thead>\n",
              "        <tr>\n",
              "            <th>id</th>\n",
              "            <th>name</th>\n",
              "            <th>email</th>\n",
              "            <th>age</th>\n",
              "            <th>phone</th>\n",
              "            <th>full_address</th>\n",
              "        </tr>\n",
              "    </thead>\n",
              "    <tbody>\n",
              "        <tr>\n",
              "            <td>2</td>\n",
              "            <td>Wilson Spalding</td>\n",
              "            <td>will@example.com</td>\n",
              "            <td>55</td>\n",
              "            <td>0491570156</td>\n",
              "            <td>1 Basketball Ct. Sportsville</td>\n",
              "        </tr>\n",
              "    </tbody>\n",
              "</table>"
            ],
            "text/plain": [
              "[(2, 'Wilson Spalding', 'will@example.com', 55, '0491570156', '1 Basketball Ct. Sportsville')]"
            ]
          },
          "execution_count": 25,
          "metadata": {},
          "output_type": "execute_result"
        }
      ],
      "source": [
        "%%sql\n",
        "select * from members where email = 'Will@example.com';"
      ]
    },
    {
      "cell_type": "markdown",
      "metadata": {
        "id": "bXT4tq_H4lGm"
      },
      "source": [
        "It worked!"
      ]
    }
  ],
  "metadata": {
    "colab": {
      "name": "Image_ORM_sample_code.ipynb",
      "toc_visible": true
    },
    "kernelspec": {
      "display_name": "Python 3",
      "name": "python3"
    }
  },
  "nbformat": 4,
  "nbformat_minor": 0
}
